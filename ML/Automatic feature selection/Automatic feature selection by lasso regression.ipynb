{
 "cells": [
  {
   "cell_type": "markdown",
   "id": "4a5a77cf-ba49-4a35-9963-a86824dc8b2f",
   "metadata": {},
   "source": [
    "## Automatic feature selection by Lasso"
   ]
  },
  {
   "cell_type": "markdown",
   "id": "4b6e7be8-40e3-4322-ab9f-550b175853a2",
   "metadata": {},
   "source": [
    "$\n",
    "\\frac{1}{2N_{training}}  \\Sigma_{i=1}^{N_{training}} (Y_{real}^{(i)}-Y_{predict}^{(i)})^2 + \\alpha \\Sigma_{j=1}^{N}|a_j|\n",
    "$\n"
   ]
  },
  {
   "cell_type": "markdown",
   "id": "03e58452-7981-461d-9e94-70b53cf9bb13",
   "metadata": {},
   "source": [
    "In order to minimize this cost function, we need to minimize the coefficients as low as possible.\n",
    "With this approach an automatic feature selection will be done by lasso because if two features are \n",
    "collinear their presence inside the dataset will increase the value of this cost function so lasso regression\n",
    "tries to shrink those coefficients to zero if features are useless or collinear and do not help to minimizing the cost function.\n",
    "The idea is to use lasso l1 term to perform automatic feature selection.\n",
    "Lasso works good on the scaled data\n"
   ]
  },
  {
   "cell_type": "code",
   "execution_count": 1,
   "id": "5af8fbdf-1c48-411d-98e0-321df594acaa",
   "metadata": {},
   "outputs": [],
   "source": [
    "import numpy as np\n",
    "from sklearn.linear_model import Lasso\n",
    "from sklearn.preprocessing import StandardScaler\n",
    "from sklearn.pipeline import Pipeline\n",
    "from sklearn.model_selection import GridSearchCV, train_test_split\n",
    "from sklearn.datasets import load_diabetes"
   ]
  },
  {
   "cell_type": "code",
   "execution_count": 3,
   "id": "7db2f3ac-4bb3-418f-8080-51b12520ce66",
   "metadata": {},
   "outputs": [],
   "source": [
    "X,y = load_diabetes(return_X_y=True)\n",
    "features = load_diabetes()['feature_names']"
   ]
  },
  {
   "cell_type": "code",
   "execution_count": 5,
   "id": "344f8054-6c3f-4905-b3ad-c4d55fa7349d",
   "metadata": {},
   "outputs": [],
   "source": [
    "X_train, X_test, y_train, y_test = train_test_split (X, y, test_size=0.33, random_state=42)\n",
    "pipeline = Pipeline([\n",
    "\t('scaler',StandardScaler()),\n",
    "\t('model',Lasso())\n",
    "])\n"
   ]
  },
  {
   "cell_type": "code",
   "execution_count": 9,
   "id": "89d9e146-0b98-4158-af12-b125b390bccc",
   "metadata": {},
   "outputs": [],
   "source": [
    "search = GridSearchCV(pipeline,\n",
    "\t{'model__alpha':np.arange(0.1, 3, 0.1)},# from 0.1 to 3 increment step = 0.1\n",
    "\tcv = 5 ,#Determines the cross-validation splitting strategy\n",
    "\tscoring = 'neg_mean_squared_error',\n",
    "\tverbose=3\n",
    ")"
   ]
  },
  {
   "cell_type": "code",
   "execution_count": null,
   "id": "d86f48fc-fcc5-4672-878f-03357ddb7268",
   "metadata": {},
   "outputs": [],
   "source": [
    "search.fit(X_train,y_train)"
   ]
  },
  {
   "cell_type": "code",
   "execution_count": 16,
   "id": "37b519a0-03a8-4c8c-a9f5-165a76325cd7",
   "metadata": {},
   "outputs": [
    {
     "data": {
      "text/plain": [
       "{'model__alpha': 1.2000000000000002}"
      ]
     },
     "execution_count": 16,
     "metadata": {},
     "output_type": "execute_result"
    }
   ],
   "source": [
    "# Best alpha\n",
    "search.best_params_"
   ]
  },
  {
   "cell_type": "code",
   "execution_count": 12,
   "id": "43d8ab04-c4b6-4136-92e7-9846766e7eeb",
   "metadata": {},
   "outputs": [],
   "source": [
    "coef = search.best_estimator_[1].coef_"
   ]
  },
  {
   "cell_type": "code",
   "execution_count": 14,
   "id": "92d84407-f048-400e-870b-724c867dc88c",
   "metadata": {},
   "outputs": [
    {
     "data": {
      "text/plain": [
       "array(['age', 'sex', 'bmi', 'bp', 's1', 's3', 's5'], dtype='<U3')"
      ]
     },
     "execution_count": 14,
     "metadata": {},
     "output_type": "execute_result"
    }
   ],
   "source": [
    "# features considered by the model\n",
    "np.array(features)[coef!=0]"
   ]
  },
  {
   "cell_type": "code",
   "execution_count": 15,
   "id": "5026e4c8-8be9-4383-9d7b-a800581dfa46",
   "metadata": {},
   "outputs": [
    {
     "data": {
      "text/plain": [
       "array(['s2', 's4', 's6'], dtype='<U3')"
      ]
     },
     "execution_count": 15,
     "metadata": {},
     "output_type": "execute_result"
    }
   ],
   "source": [
    "# features discarded by the model\n",
    "np.array(features)[coef==0]"
   ]
  }
 ],
 "metadata": {
  "kernelspec": {
   "display_name": "Python 3 (ipykernel)",
   "language": "python",
   "name": "python3"
  },
  "language_info": {
   "codemirror_mode": {
    "name": "ipython",
    "version": 3
   },
   "file_extension": ".py",
   "mimetype": "text/x-python",
   "name": "python",
   "nbconvert_exporter": "python",
   "pygments_lexer": "ipython3",
   "version": "3.10.7"
  }
 },
 "nbformat": 4,
 "nbformat_minor": 5
}
