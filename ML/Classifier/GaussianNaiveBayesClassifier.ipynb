{
 "cells": [
  {
   "cell_type": "markdown",
   "id": "2a5b1449-7112-4180-9c35-d1f765b84344",
   "metadata": {},
   "source": [
    "## Gaussian Naive Bayes Classifier\n",
    "\n",
    "$f(x_i | y) = \\frac{1}{\\sqrt{2\\pi{\\sigma_y}^2}} \n",
    "  \\exp\\left( -\\frac{\\left(x_i-\\mu_y\\right)^2}{2{\\sigma_y}^2}\\right)$\n",
    "  "
   ]
  },
  {
   "cell_type": "code",
   "execution_count": 42,
   "id": "5eefdccd-78eb-48fe-b55d-2de9e3112c45",
   "metadata": {},
   "outputs": [
    {
     "data": {
      "text/html": [
       "<div>\n",
       "<style scoped>\n",
       "    .dataframe tbody tr th:only-of-type {\n",
       "        vertical-align: middle;\n",
       "    }\n",
       "\n",
       "    .dataframe tbody tr th {\n",
       "        vertical-align: top;\n",
       "    }\n",
       "\n",
       "    .dataframe thead th {\n",
       "        text-align: right;\n",
       "    }\n",
       "</style>\n",
       "<table border=\"1\" class=\"dataframe\">\n",
       "  <thead>\n",
       "    <tr style=\"text-align: right;\">\n",
       "      <th></th>\n",
       "      <th>Gender</th>\n",
       "      <th>Height</th>\n",
       "      <th>Weight</th>\n",
       "      <th>Foot_Size</th>\n",
       "    </tr>\n",
       "  </thead>\n",
       "  <tbody>\n",
       "    <tr>\n",
       "      <th>0</th>\n",
       "      <td>male</td>\n",
       "      <td>6.00</td>\n",
       "      <td>180</td>\n",
       "      <td>12</td>\n",
       "    </tr>\n",
       "    <tr>\n",
       "      <th>1</th>\n",
       "      <td>male</td>\n",
       "      <td>5.92</td>\n",
       "      <td>190</td>\n",
       "      <td>11</td>\n",
       "    </tr>\n",
       "    <tr>\n",
       "      <th>2</th>\n",
       "      <td>male</td>\n",
       "      <td>5.58</td>\n",
       "      <td>170</td>\n",
       "      <td>12</td>\n",
       "    </tr>\n",
       "    <tr>\n",
       "      <th>3</th>\n",
       "      <td>male</td>\n",
       "      <td>5.92</td>\n",
       "      <td>165</td>\n",
       "      <td>10</td>\n",
       "    </tr>\n",
       "    <tr>\n",
       "      <th>4</th>\n",
       "      <td>female</td>\n",
       "      <td>5.00</td>\n",
       "      <td>100</td>\n",
       "      <td>6</td>\n",
       "    </tr>\n",
       "    <tr>\n",
       "      <th>5</th>\n",
       "      <td>female</td>\n",
       "      <td>5.50</td>\n",
       "      <td>150</td>\n",
       "      <td>8</td>\n",
       "    </tr>\n",
       "    <tr>\n",
       "      <th>6</th>\n",
       "      <td>female</td>\n",
       "      <td>5.42</td>\n",
       "      <td>130</td>\n",
       "      <td>7</td>\n",
       "    </tr>\n",
       "    <tr>\n",
       "      <th>7</th>\n",
       "      <td>female</td>\n",
       "      <td>5.75</td>\n",
       "      <td>150</td>\n",
       "      <td>9</td>\n",
       "    </tr>\n",
       "  </tbody>\n",
       "</table>\n",
       "</div>"
      ],
      "text/plain": [
       "   Gender  Height  Weight  Foot_Size\n",
       "0    male    6.00     180         12\n",
       "1    male    5.92     190         11\n",
       "2    male    5.58     170         12\n",
       "3    male    5.92     165         10\n",
       "4  female    5.00     100          6\n",
       "5  female    5.50     150          8\n",
       "6  female    5.42     130          7\n",
       "7  female    5.75     150          9"
      ]
     },
     "execution_count": 42,
     "metadata": {},
     "output_type": "execute_result"
    }
   ],
   "source": [
    "import pandas as pd\n",
    "import numpy as np\n",
    "\n",
    "# Create dictioanrt \n",
    "data = {'Gender': ['male','male','male','male','female','female','female','female'],\n",
    "        'Height': [6,5.92,5.58,5.92,5,5.5,5.42,5.75],\n",
    "        'Weight': [180,190,170,165,100,150,130,150],\n",
    "        'Foot_Size': [12,11,12,10,6,8,7,9]\n",
    "       }\n",
    "# Create dataframe from dictioanrt \n",
    "df = pd.DataFrame(data)\n",
    "df"
   ]
  },
  {
   "cell_type": "markdown",
   "id": "cc9decf8-1a43-4b9c-b12f-40a01e0fa268",
   "metadata": {},
   "source": [
    "### Priors"
   ]
  },
  {
   "cell_type": "code",
   "execution_count": 25,
   "id": "da9cb60f-bd6a-4a95-b167-ef1405538f28",
   "metadata": {},
   "outputs": [
    {
     "name": "stdout",
     "output_type": "stream",
     "text": [
      "total count:8, 4 male (50.0%) and 4 female (50.0%)\n"
     ]
    }
   ],
   "source": [
    "# Number of males\n",
    "n_male = df['Gender'][df['Gender'] == 'male'].count()\n",
    "# Number of males\n",
    "n_female = df['Gender'][df['Gender'] == 'female'].count()\n",
    "# Total rows\n",
    "total_ppl = df['Gender'].count()\n",
    "# Number of males divided by the total rows\n",
    "P_male = n_male/total_ppl\n",
    "# Number of females divided by the total rows\n",
    "P_female = n_female/total_ppl\n",
    "print(f\"total count:{total_ppl}, {n_male} male ({P_male * 100}%) and {n_female} female ({P_female * 100}%)\")"
   ]
  },
  {
   "cell_type": "markdown",
   "id": "2a73568d-6b49-4bf2-b9b6-6500f95dfce6",
   "metadata": {},
   "source": [
    "### Likelihood"
   ]
  },
  {
   "cell_type": "code",
   "execution_count": 29,
   "id": "8bc3c898-4057-4820-bd94-09033ec39a9c",
   "metadata": {},
   "outputs": [
    {
     "name": "stdout",
     "output_type": "stream",
     "text": [
      "        Height  Weight  Foot_Size\n",
      "Gender                           \n",
      "female  5.4175  132.50       7.50\n",
      "male    5.8550  176.25      11.25\n",
      "          Height      Weight  Foot_Size\n",
      "Gender                                 \n",
      "female  0.097225  558.333333   1.666667\n",
      "male    0.035033  122.916667   0.916667\n"
     ]
    }
   ],
   "source": [
    "# Group the data by gender and calculate the means of each feature\n",
    "data_means = df.groupby('Gender').mean()\n",
    "print(data_means.head(5))\n",
    "\n",
    "# Group the data by gender and calculate the variance of each feature\n",
    "data_variance = df.groupby('Gender').var()\n",
    "print(data_variance.head(5))\n"
   ]
  },
  {
   "cell_type": "markdown",
   "id": "51880402-1c0a-4638-9cbf-fceebffd7529",
   "metadata": {},
   "source": [
    "### Formula\n",
    "\n",
    "posterior (male) = P(male)*P(height|male)*P(weight|male)*P(foot size|male) / evidence <br>\n",
    "posterior (female) = P(female)*P(height|female)*P(weight|female)*P(foot size|female) / evidence <br><br>\n",
    "Evidence = P(male)*P(height|male)*P(weight|male)*P(foot size|male) + P(female) * P(height|female) * P(weight|female)*P(foot size|female) <br><br>\n",
    "The evidence may be ignored since it is a positive constant. (Normal distributions are always positive.)<br>"
   ]
  },
  {
   "cell_type": "markdown",
   "id": "ddd399a1-a430-4827-a0ff-8057c72d1723",
   "metadata": {},
   "source": [
    "$f(x) = \\frac{1}{\\sigma\\sqrt{2\\pi}} \n",
    "  \\exp\\left( -\\frac{1}{2}\\left(\\frac{x-\\mu}{\\sigma}\\right)^{\\!2}\\,\\right)$\n",
    "  \n",
    "  $\\pi \\simeq 3.1415926535...\\\\\n",
    "  e \\simeq 2.71828..$"
   ]
  },
  {
   "cell_type": "raw",
   "id": "1d4a3a74-923d-431a-8209-984f9b5f8232",
   "metadata": {},
   "source": [
    "Calculation of P(height | Male )\n",
    "mean of  the height of male = 5.855\n",
    "variance ( Square of S.D.)  of the height of a male is square of 3.5033e-02\n",
    "and x i.e. given height is 6 feet\n",
    "Substituting the values in the above equation we get  P(height | Male ) = 1.5789"
   ]
  },
  {
   "cell_type": "code",
   "execution_count": 30,
   "id": "e3efc363-776b-4ecb-9b61-dc95b810626a",
   "metadata": {},
   "outputs": [],
   "source": [
    "# Means for male\n",
    "male_height_mean = data_means['Height'][data_variance.index == 'male'].values[0]\n",
    "male_weight_mean = data_means['Weight'][data_variance.index == 'male'].values[0]\n",
    "male_footsize_mean = data_means['Foot_Size'][data_variance.index == 'male'].values[0]\n",
    "\n",
    "# Variance for male\n",
    "male_height_variance = data_variance['Height'][data_variance.index == 'male'].values[0]\n",
    "male_weight_variance = data_variance['Weight'][data_variance.index == 'male'].values[0]\n",
    "male_footsize_variance = data_variance['Foot_Size'][data_variance.index == 'male'].values[0]\n",
    "\n",
    "# Means for female\n",
    "female_height_mean = data_means['Height'][data_variance.index == 'female'].values[0]\n",
    "female_weight_mean = data_means['Weight'][data_variance.index == 'female'].values[0]\n",
    "female_footsize_mean = data_means['Foot_Size'][data_variance.index == 'female'].values[0]\n",
    "\n",
    "# Variance for female\n",
    "female_height_variance = data_variance['Height'][data_variance.index == 'female'].values[0]\n",
    "female_weight_variance = data_variance['Weight'][data_variance.index == 'female'].values[0]\n",
    "female_footsize_variance = data_variance['Foot_Size'][data_variance.index == 'female'].values[0]"
   ]
  },
  {
   "cell_type": "code",
   "execution_count": 32,
   "id": "31fde4b8-0945-426b-9770-8a81e2c7e017",
   "metadata": {},
   "outputs": [],
   "source": [
    "# Create a function that calculates p(x | y):\n",
    "def p_x_given_y(x, mean_y, variance_y):\n",
    "    # Input the arguments into a probability density function\n",
    "    p = 1/(np.sqrt(2*np.pi*variance_y)) * np.exp((-(x-mean_y)**2)/(2*variance_y))\n",
    "    return p"
   ]
  },
  {
   "cell_type": "code",
   "execution_count": null,
   "id": "ce556a6f-4e7a-4312-a9a9-576b82dee85e",
   "metadata": {},
   "outputs": [],
   "source": []
  },
  {
   "cell_type": "code",
   "execution_count": 36,
   "id": "99672da8-3e62-4478-9c32-6d2371cbe6fa",
   "metadata": {},
   "outputs": [
    {
     "data": {
      "text/html": [
       "<div>\n",
       "<style scoped>\n",
       "    .dataframe tbody tr th:only-of-type {\n",
       "        vertical-align: middle;\n",
       "    }\n",
       "\n",
       "    .dataframe tbody tr th {\n",
       "        vertical-align: top;\n",
       "    }\n",
       "\n",
       "    .dataframe thead th {\n",
       "        text-align: right;\n",
       "    }\n",
       "</style>\n",
       "<table border=\"1\" class=\"dataframe\">\n",
       "  <thead>\n",
       "    <tr style=\"text-align: right;\">\n",
       "      <th></th>\n",
       "      <th>Height</th>\n",
       "      <th>Weight</th>\n",
       "      <th>Foot_Size</th>\n",
       "    </tr>\n",
       "  </thead>\n",
       "  <tbody>\n",
       "    <tr>\n",
       "      <th>0</th>\n",
       "      <td>6</td>\n",
       "      <td>200</td>\n",
       "      <td>11</td>\n",
       "    </tr>\n",
       "  </tbody>\n",
       "</table>\n",
       "</div>"
      ],
      "text/plain": [
       "   Height  Weight  Foot_Size\n",
       "0       6     200         11"
      ]
     },
     "execution_count": 36,
     "metadata": {},
     "output_type": "execute_result"
    }
   ],
   "source": [
    "# Create a data point with no gender with some feature values for this single row\n",
    "person = {'Height': 6,'Weight': 200, 'Foot_Size': 11} # myself\n",
    "df_new = pd.DataFrame(person, index=[0])\n",
    "df_new"
   ]
  },
  {
   "cell_type": "markdown",
   "id": "7671ba09-093e-4abd-a643-8af7235df049",
   "metadata": {},
   "source": [
    "### Posterior "
   ]
  },
  {
   "cell_type": "code",
   "execution_count": 39,
   "id": "9f1e691c-e98f-454f-8013-12aaed5bd97f",
   "metadata": {},
   "outputs": [],
   "source": [
    "# Numerator of the posterior if the unclassified observation is a male\n",
    "mp = P_male * \\\n",
    "p_x_given_y(df_new['Height'][0], male_height_mean, male_height_variance) * \\\n",
    "p_x_given_y(df_new['Weight'][0], male_weight_mean, male_weight_variance) * \\\n",
    "p_x_given_y(df_new['Foot_Size'][0], male_footsize_mean, male_footsize_variance)"
   ]
  },
  {
   "cell_type": "code",
   "execution_count": 40,
   "id": "dd1511ee-f767-4a56-a603-e14f32548828",
   "metadata": {},
   "outputs": [],
   "source": [
    "# Numerator of the posterior if the unclassified observation is a female\n",
    "fp=P_female * \\\n",
    "p_x_given_y(df_new['Height'][0], female_height_mean, female_height_variance) * \\\n",
    "p_x_given_y(df_new['Weight'][0], female_weight_mean, female_weight_variance) * \\\n",
    "p_x_given_y(df_new['Foot_Size'][0], female_footsize_mean, female_footsize_variance)"
   ]
  },
  {
   "cell_type": "code",
   "execution_count": 41,
   "id": "97adff07-a4f4-4f11-9e56-62f10d8322ac",
   "metadata": {},
   "outputs": [
    {
     "name": "stdout",
     "output_type": "stream",
     "text": [
      "male\n"
     ]
    }
   ],
   "source": [
    "if mp>fp:\n",
    "    print('male')\n",
    "else:\n",
    "    print('female')"
   ]
  }
 ],
 "metadata": {
  "kernelspec": {
   "display_name": "Python 3 (ipykernel)",
   "language": "python",
   "name": "python3"
  },
  "language_info": {
   "codemirror_mode": {
    "name": "ipython",
    "version": 3
   },
   "file_extension": ".py",
   "mimetype": "text/x-python",
   "name": "python",
   "nbconvert_exporter": "python",
   "pygments_lexer": "ipython3",
   "version": "3.9.6"
  }
 },
 "nbformat": 4,
 "nbformat_minor": 5
}
