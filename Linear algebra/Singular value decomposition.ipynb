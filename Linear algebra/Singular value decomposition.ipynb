{
 "cells": [
  {
   "cell_type": "code",
   "execution_count": 6,
   "id": "c2e86463-48f8-46f8-8aeb-2a09f158d9dc",
   "metadata": {},
   "outputs": [],
   "source": [
    "import pandas as pd\n",
    "from matplotlib import pyplot as plt\n",
    "import numpy as np\n",
    "from numpy.linalg import eigh, norm\n",
    "\n"
   ]
  },
  {
   "cell_type": "code",
   "execution_count": 21,
   "id": "05a58937-4bed-453f-a68b-1c30e5a52339",
   "metadata": {},
   "outputs": [],
   "source": [
    "A = np.array([[-5,2,3],\n",
    "               [3,5,1],\n",
    "               [-3,1,-5]])"
   ]
  },
  {
   "cell_type": "code",
   "execution_count": 22,
   "id": "ec4029d6-f95c-4da3-aa39-bcb9a36fbea8",
   "metadata": {},
   "outputs": [
    {
     "data": {
      "text/plain": [
       "array([[43,  2,  3],\n",
       "       [ 2, 30,  6],\n",
       "       [ 3,  6, 35]])"
      ]
     },
     "execution_count": 22,
     "metadata": {},
     "output_type": "execute_result"
    }
   ],
   "source": [
    "A.T@A"
   ]
  },
  {
   "cell_type": "code",
   "execution_count": 23,
   "id": "d63ec6f6-bc94-4c5d-bc31-5a6de1f578ac",
   "metadata": {},
   "outputs": [],
   "source": [
    "ev, V= eigh(A.T@A)"
   ]
  },
  {
   "cell_type": "code",
   "execution_count": 24,
   "id": "0217a554-9595-47b9-a521-584a72d69595",
   "metadata": {},
   "outputs": [
    {
     "data": {
      "text/plain": [
       "array([ 0.        , -0.83205029,  0.5547002 ])"
      ]
     },
     "execution_count": 24,
     "metadata": {},
     "output_type": "execute_result"
    }
   ],
   "source": [
    "V[:,0]"
   ]
  },
  {
   "cell_type": "code",
   "execution_count": 30,
   "id": "19be9b33-bdfb-4b62-a953-b81dcfc79abd",
   "metadata": {},
   "outputs": [],
   "source": [
    "u0 = A@V[:,0]/norm(A@V[:,0])# column 1\n",
    "u1 = A@V[:,1]/norm(A@V[:,1])# column 2\n",
    "u2 = A@V[:,2]/norm(A@V[:,2])# column 3"
   ]
  },
  {
   "cell_type": "code",
   "execution_count": 31,
   "id": "f08f186e-b9ff-438c-9bbd-c14f2d3ef631",
   "metadata": {},
   "outputs": [],
   "source": [
    "U=np.array([u0,u1,u2]).T"
   ]
  },
  {
   "cell_type": "code",
   "execution_count": 32,
   "id": "c3fbf938-a638-415b-8e68-eda0fa51debb",
   "metadata": {},
   "outputs": [
    {
     "name": "stdout",
     "output_type": "stream",
     "text": [
      "[[ 5.09902   0.       -0.      ]\n",
      " [ 0.        6.072635  0.      ]\n",
      " [-0.        0.        6.717373]]\n"
     ]
    }
   ],
   "source": [
    "D=np.round(U.T@A@V, decimals = 6)\n",
    "print(D)"
   ]
  },
  {
   "cell_type": "code",
   "execution_count": 33,
   "id": "3874264a-eb76-4417-bfa9-a739b5aad2c9",
   "metadata": {},
   "outputs": [],
   "source": [
    "AA =  U@D@V.T #is the SVD\n",
    "# A is [mxn]\n",
    "# U very few columns and m rows [mxr]\n",
    "# D is diagnal [rxr]\n",
    "# V small number of rows [nxr]\n",
    "\n",
    "\n",
    "# U : left singular vector\n",
    "# D : Singular value (Diagonal metrix, sorted none zero values are on main diagonal and rest are zero)\n",
    "# V : Right singular vector"
   ]
  },
  {
   "cell_type": "code",
   "execution_count": 34,
   "id": "93f7c0d3-990b-4738-8e75-3b7fac714772",
   "metadata": {},
   "outputs": [
    {
     "name": "stdout",
     "output_type": "stream",
     "text": [
      "[[-5  2  3]\n",
      " [ 3  5  1]\n",
      " [-3  1 -5]]\n",
      "[[-4.99999992  2.0000001   3.00000015]\n",
      " [ 2.99999975  5.00000022  0.99999972]\n",
      " [-2.99999975  1.00000035 -5.0000001 ]]\n"
     ]
    }
   ],
   "source": [
    "print(A)\n",
    "print(AA)"
   ]
  },
  {
   "cell_type": "code",
   "execution_count": null,
   "id": "d6fb3a12-eb8f-4827-966a-c9df7d818b1a",
   "metadata": {},
   "outputs": [],
   "source": []
  }
 ],
 "metadata": {
  "kernelspec": {
   "display_name": "Python 3 (ipykernel)",
   "language": "python",
   "name": "python3"
  },
  "language_info": {
   "codemirror_mode": {
    "name": "ipython",
    "version": 3
   },
   "file_extension": ".py",
   "mimetype": "text/x-python",
   "name": "python",
   "nbconvert_exporter": "python",
   "pygments_lexer": "ipython3",
   "version": "3.9.6"
  }
 },
 "nbformat": 4,
 "nbformat_minor": 5
}
